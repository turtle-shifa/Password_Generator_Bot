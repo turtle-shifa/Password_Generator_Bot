print("Welcome to the 'Password Generator Bot'")

#Input Section
letter = int(input("How many letters would you like in your password?: "))
symbols = int(input("How many symbols would you like?: "))
numbers = int(input("How many numbers would you like?: "))

#Backend
import random
letter_server = ['a', 'b', 'c', 'd', 'e', 'f', 'g', 'h', 'i', 'j', 'k', 'l', 'm', 'n', 'o', 'p', 'q', 'r', 's', 't', 'u', 'v', 'w', 'x', 'y', 'z', 'A', 'B', 'C', 'D', 'E', 'F', 'G', 'H', 'I', 'J', 'K', 'L', 'M', 'N', 'O', 'P', 'Q', 'R', 'S', 'T', 'U', 'V', 'W', 'X', 'Y', 'Z']
symbol_server = ['!', '@', '#', '$', '%', '&', '*', '(', ')', '_', '-', '+', ':', ';', ',', '>', '.', '?', '/']
number_server = ['0', '1', '2', '3', '4', '5', '6', '7', '8', '9']

#Code
pre_result = ""
for i in range(letter):
  random_number = random.randint(0,len(letter_server)-1)
  pre_result+=(letter_server[random_number])
for i in range(symbols):
  random_number = random.randint(0,len(symbol_server)-1)
  pre_result+=(symbol_server[random_number])
for i in range(numbers):
  random_number = random.randint(0,len(number_server)-1)
  pre_result+=(number_server[random_number])

#Re-Suffle
final_result = "".join(random.sample(pre_result, len(pre_result)))

#Print
print("")
print(f"Here is your Password: {final_result}")
