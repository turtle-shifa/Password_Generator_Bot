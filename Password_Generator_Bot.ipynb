{
  "nbformat": 4,
  "nbformat_minor": 0,
  "metadata": {
    "colab": {
      "provenance": [],
      "authorship_tag": "ABX9TyPVMMMhfFcV4R1/gOHMrbov",
      "include_colab_link": true
    },
    "kernelspec": {
      "name": "python3",
      "display_name": "Python 3"
    },
    "language_info": {
      "name": "python"
    }
  },
  "cells": [
    {
      "cell_type": "markdown",
      "metadata": {
        "id": "view-in-github",
        "colab_type": "text"
      },
      "source": [
        "<a href=\"https://colab.research.google.com/github/turtle-shifa/Password_Generator_Bot/blob/main/Password_Generator_Bot.ipynb\" target=\"_parent\"><img src=\"https://colab.research.google.com/assets/colab-badge.svg\" alt=\"Open In Colab\"/></a>"
      ]
    },
    {
      "cell_type": "code",
      "execution_count": 5,
      "metadata": {
        "colab": {
          "base_uri": "https://localhost:8080/"
        },
        "id": "fOhtLfJNc-MN",
        "outputId": "0c990d30-8d7e-4178-9b63-6eb49545f98e"
      },
      "outputs": [
        {
          "output_type": "stream",
          "name": "stdout",
          "text": [
            "Welcome to the 'Password Generator Bot'\n",
            "How many letters would you like in your password?: 4\n",
            "How many symbols would you like?: 4\n",
            "How many numbers would you like?: 4\n",
            "\n",
            "Here is your Password: ?+GQt47Z-$44\n"
          ]
        }
      ],
      "source": [
        "print(\"Welcome to the 'Password Generator Bot'\")\n",
        "\n",
        "#Input Section\n",
        "letter = int(input(\"How many letters would you like in your password?: \"))\n",
        "symbols = int(input(\"How many symbols would you like?: \"))\n",
        "numbers = int(input(\"How many numbers would you like?: \"))\n",
        "\n",
        "#Backend\n",
        "import random\n",
        "letter_server = ['a', 'b', 'c', 'd', 'e', 'f', 'g', 'h', 'i', 'j', 'k', 'l', 'm', 'n', 'o', 'p', 'q', 'r', 's', 't', 'u', 'v', 'w', 'x', 'y', 'z', 'A', 'B', 'C', 'D', 'E', 'F', 'G', 'H', 'I', 'J', 'K', 'L', 'M', 'N', 'O', 'P', 'Q', 'R', 'S', 'T', 'U', 'V', 'W', 'X', 'Y', 'Z']\n",
        "symbol_server = ['!', '@', '#', '$', '%', '&', '*', '(', ')', '_', '-', '+', ':', ';', ',', '>', '.', '?', '/']\n",
        "number_server = ['0', '1', '2', '3', '4', '5', '6', '7', '8', '9']\n",
        "\n",
        "#Code\n",
        "pre_result = \"\"\n",
        "for i in range(letter):\n",
        "  random_number = random.randint(0,len(letter_server)-1)\n",
        "  pre_result+=(letter_server[random_number])\n",
        "for i in range(symbols):\n",
        "  random_number = random.randint(0,len(symbol_server)-1)\n",
        "  pre_result+=(symbol_server[random_number])\n",
        "for i in range(numbers):\n",
        "  random_number = random.randint(0,len(number_server)-1)\n",
        "  pre_result+=(number_server[random_number])\n",
        "\n",
        "#Re-Suffle\n",
        "final_result = \"\".join(random.sample(pre_result, len(pre_result)))\n",
        "\n",
        "#Print\n",
        "print(\"\")\n",
        "print(f\"Here is your Password: {final_result}\")\n"
      ]
    }
  ]
}